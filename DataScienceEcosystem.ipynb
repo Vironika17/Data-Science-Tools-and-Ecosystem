{
 "cells": [
  {
   "cell_type": "markdown",
   "id": "9c0613f1",
   "metadata": {},
   "source": [
    "# Data Science Tools and Ecosystem"
   ]
  },
  {
   "cell_type": "markdown",
   "id": "998229d7",
   "metadata": {},
   "source": [
    "**Introduction** : In this notebook, Data Science Tools and Ecosystem are summarized."
   ]
  },
  {
   "cell_type": "markdown",
   "id": "fc4e85ce",
   "metadata": {},
   "source": [
    "**Objectives:**\n",
    "- List popular languages for Data Science\n",
    "- List some data science libraries\n",
    "- List some tools for data science"
   ]
  },
  {
   "cell_type": "markdown",
   "id": "e1268614",
   "metadata": {},
   "source": [
    "Some of the popular languages that Data Scientists use are:\n",
    "1. Python: Widely used for data analysis, machine learning, and general-purpose programming. Popular libraries include NumPy, Pandas, Scikit-learn, and TensorFlow.\n",
    "2. R: A statistical programming language with a rich ecosystem of packages for data analysis and visualization. It's widely used in academia and research.\n",
    "3. SQL (Structured Query Language): Used for database querying and manipulation. Essential for working with relational databases.\n",
    "4. Julia: A high-performance language for technical computing, with a focus on numerical and scientific computing.\n",
    "5. Scala: Often used with Apache Spark for distributed data processing and machine learning.\n",
    "6. Java: Widely used in big data processing frameworks like Apache Hadoop.\n",
    "7. MATLAB: Used in academia and industry for numerical computing and data analysis.\n",
    "8. SAS: A statistical software suite commonly used for advanced analytics and business intelligence.\n",
    "9. JavaScript: Increasingly used for interactive data visualizations on the web, often with libraries like D3.js.\n",
    "10. Go (Golang): Gaining popularity for building scalable and efficient data processing applications."
   ]
  },
  {
   "cell_type": "markdown",
   "id": "9ca537c4",
   "metadata": {},
   "source": [
    "Some of the commonly used libraries used by Data Scientists include:\n",
    "1. NumPy: Fundamental package for scientific computing with support for large, multi-dimensional arrays and matrices.\n",
    "2. Pandas: Provides high-performance, easy-to-use data structures such as DataFrame for data manipulation and analysis.\n",
    "3. Matplotlib: Comprehensive library for creating static, animated, and interactive visualizations in Python.\n",
    "4. Seaborn: Built on top of Matplotlib, it provides an aesthetically pleasing and informative statistical graphics.\n",
    "5. Scikit-learn: Simple and efficient tools for data mining and data analysis, particularly focused on machine learning.\n",
    "6. TensorFlow: Open-source machine learning library developed by Google for building and training neural networks.\n",
    "7. PyTorch: An open-source machine learning library developed by Facebook's AI Research lab, known for its dynamic computation graph.\n",
    "8. SciPy: Library for mathematics, science, and engineering. It builds on NumPy and provides additional functionality.\n",
    "9. Statsmodels: Provides classes and functions for statistical estimation and hypothesis testing.\n",
    "10. NLTK (Natural Language Toolkit): Library for working with human language data, particularly useful for text processing.\n",
    "11. Beautiful Soup: Library for pulling data out of HTML and XML files. It provides Pythonic idioms for iterating, searching, and modifying the parse tree.\n",
    "12. Scrapy: An open-source and collaborative web crawling framework for Python."
   ]
  },
  {
   "cell_type": "markdown",
   "id": "3161fa2c",
   "metadata": {},
   "source": [
    "|Data Science Tools|\n",
    "|:----------------:|\n",
    "|Jupyter Notebooks|\n",
    "|Rstudio|\n",
    "|Apache Zeppelin|\n"
   ]
  },
  {
   "cell_type": "markdown",
   "id": "4c872d65",
   "metadata": {},
   "source": [
    "### Below are a few examples of evaluating arithmetic expressions in Python"
   ]
  },
  {
   "cell_type": "code",
   "execution_count": 1,
   "id": "85be2588",
   "metadata": {},
   "outputs": [
    {
     "data": {
      "text/plain": [
       "17"
      ]
     },
     "execution_count": 1,
     "metadata": {},
     "output_type": "execute_result"
    }
   ],
   "source": [
    "# This a simple arithmetic expression to mutiply then add integers\n",
    "(3*4)+5"
   ]
  },
  {
   "cell_type": "code",
   "execution_count": 3,
   "id": "f13033f7",
   "metadata": {},
   "outputs": [
    {
     "name": "stdout",
     "output_type": "stream",
     "text": [
      "hour: 3\n",
      "minute: 20\n"
     ]
    }
   ],
   "source": [
    "# This will convert 200 minutes to hours by diving by 60.\n",
    "dividend = 200\n",
    "divisor = 60\n",
    "quotient, remainder = divmod(dividend, divisor)\n",
    "print(\"hour:\", quotient)\n",
    "print(\"minute:\", remainder)"
   ]
  },
  {
   "cell_type": "markdown",
   "id": "bb077c20",
   "metadata": {},
   "source": [
    "## Author\n",
    "Weirong Xu"
   ]
  }
 ],
 "metadata": {
  "kernelspec": {
   "display_name": "Python 3 (ipykernel)",
   "language": "python",
   "name": "python3"
  },
  "language_info": {
   "codemirror_mode": {
    "name": "ipython",
    "version": 3
   },
   "file_extension": ".py",
   "mimetype": "text/x-python",
   "name": "python",
   "nbconvert_exporter": "python",
   "pygments_lexer": "ipython3",
   "version": "3.9.13"
  }
 },
 "nbformat": 4,
 "nbformat_minor": 5
}
